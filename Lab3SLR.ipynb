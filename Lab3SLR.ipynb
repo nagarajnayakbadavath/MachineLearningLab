{
 "cells": [
  {
   "cell_type": "code",
   "execution_count": 1,
   "id": "3a425ae3-be7c-4e50-9174-61df5334e61b",
   "metadata": {},
   "outputs": [
    {
     "name": "stdout",
     "output_type": "stream",
     "text": [
      "Linear Regression\n"
     ]
    }
   ],
   "source": [
    "print(\"Linear Regression\")"
   ]
  },
  {
   "cell_type": "code",
   "execution_count": 1,
   "id": "13acff51-44e7-451d-9104-dde86ee18939",
   "metadata": {},
   "outputs": [
    {
     "data": {
      "text/html": [
       "<div>\n",
       "<style scoped>\n",
       "    .dataframe tbody tr th:only-of-type {\n",
       "        vertical-align: middle;\n",
       "    }\n",
       "\n",
       "    .dataframe tbody tr th {\n",
       "        vertical-align: top;\n",
       "    }\n",
       "\n",
       "    .dataframe thead th {\n",
       "        text-align: right;\n",
       "    }\n",
       "</style>\n",
       "<table border=\"1\" class=\"dataframe\">\n",
       "  <thead>\n",
       "    <tr style=\"text-align: right;\">\n",
       "      <th></th>\n",
       "      <th>TV</th>\n",
       "      <th>Sales</th>\n",
       "    </tr>\n",
       "  </thead>\n",
       "  <tbody>\n",
       "    <tr>\n",
       "      <th>0</th>\n",
       "      <td>230.1</td>\n",
       "      <td>22.1</td>\n",
       "    </tr>\n",
       "    <tr>\n",
       "      <th>1</th>\n",
       "      <td>44.5</td>\n",
       "      <td>10.4</td>\n",
       "    </tr>\n",
       "    <tr>\n",
       "      <th>2</th>\n",
       "      <td>17.2</td>\n",
       "      <td>9.3</td>\n",
       "    </tr>\n",
       "    <tr>\n",
       "      <th>3</th>\n",
       "      <td>151.5</td>\n",
       "      <td>18.5</td>\n",
       "    </tr>\n",
       "    <tr>\n",
       "      <th>4</th>\n",
       "      <td>180.8</td>\n",
       "      <td>12.9</td>\n",
       "    </tr>\n",
       "  </tbody>\n",
       "</table>\n",
       "</div>"
      ],
      "text/plain": [
       "      TV  Sales\n",
       "0  230.1   22.1\n",
       "1   44.5   10.4\n",
       "2   17.2    9.3\n",
       "3  151.5   18.5\n",
       "4  180.8   12.9"
      ]
     },
     "execution_count": 1,
     "metadata": {},
     "output_type": "execute_result"
    }
   ],
   "source": [
    "import pandas as pd\n",
    "df=pd.read_csv(\"C:/Users/NAGARAJU/Downloads/tvmarketing.csv\")\n",
    "df.head()   #this will gives you the first five rows"
   ]
  },
  {
   "cell_type": "code",
   "execution_count": 2,
   "id": "7e66c20e-3145-49c2-9681-ffe6428168a3",
   "metadata": {},
   "outputs": [
    {
     "data": {
      "text/plain": [
       "200"
      ]
     },
     "execution_count": 2,
     "metadata": {},
     "output_type": "execute_result"
    }
   ],
   "source": [
    "df.shape[0]  #no of rows"
   ]
  },
  {
   "cell_type": "code",
   "execution_count": 3,
   "id": "20568c6e-c6bd-4b74-b140-55a446d5dac3",
   "metadata": {},
   "outputs": [
    {
     "data": {
      "text/plain": [
       "2"
      ]
     },
     "execution_count": 3,
     "metadata": {},
     "output_type": "execute_result"
    }
   ],
   "source": [
    "df.shape[1]  #no of columns"
   ]
  },
  {
   "cell_type": "code",
   "execution_count": 4,
   "id": "053a61d6-0b61-495d-b974-1e9a2e49817f",
   "metadata": {},
   "outputs": [
    {
     "data": {
      "text/plain": [
       "(200, 2)"
      ]
     },
     "execution_count": 4,
     "metadata": {},
     "output_type": "execute_result"
    }
   ],
   "source": [
    "df.shape  #no of rows and columns"
   ]
  },
  {
   "cell_type": "code",
   "execution_count": 5,
   "id": "7b3a4660-2f28-455e-8945-4dc0fe2b4f8f",
   "metadata": {},
   "outputs": [
    {
     "data": {
      "text/plain": [
       "TV       float64\n",
       "Sales    float64\n",
       "dtype: object"
      ]
     },
     "execution_count": 5,
     "metadata": {},
     "output_type": "execute_result"
    }
   ],
   "source": [
    "df.dtypes   # datatypes of columns"
   ]
  },
  {
   "cell_type": "code",
   "execution_count": 6,
   "id": "49e41929-d621-46ce-a68f-dc96eefc6750",
   "metadata": {},
   "outputs": [
    {
     "data": {
      "text/html": [
       "<div>\n",
       "<style scoped>\n",
       "    .dataframe tbody tr th:only-of-type {\n",
       "        vertical-align: middle;\n",
       "    }\n",
       "\n",
       "    .dataframe tbody tr th {\n",
       "        vertical-align: top;\n",
       "    }\n",
       "\n",
       "    .dataframe thead th {\n",
       "        text-align: right;\n",
       "    }\n",
       "</style>\n",
       "<table border=\"1\" class=\"dataframe\">\n",
       "  <thead>\n",
       "    <tr style=\"text-align: right;\">\n",
       "      <th></th>\n",
       "      <th>TV</th>\n",
       "      <th>Sales</th>\n",
       "    </tr>\n",
       "  </thead>\n",
       "  <tbody>\n",
       "    <tr>\n",
       "      <th>count</th>\n",
       "      <td>200.000000</td>\n",
       "      <td>200.000000</td>\n",
       "    </tr>\n",
       "    <tr>\n",
       "      <th>mean</th>\n",
       "      <td>147.042500</td>\n",
       "      <td>14.022500</td>\n",
       "    </tr>\n",
       "    <tr>\n",
       "      <th>std</th>\n",
       "      <td>85.854236</td>\n",
       "      <td>5.217457</td>\n",
       "    </tr>\n",
       "    <tr>\n",
       "      <th>min</th>\n",
       "      <td>0.700000</td>\n",
       "      <td>1.600000</td>\n",
       "    </tr>\n",
       "    <tr>\n",
       "      <th>25%</th>\n",
       "      <td>74.375000</td>\n",
       "      <td>10.375000</td>\n",
       "    </tr>\n",
       "    <tr>\n",
       "      <th>50%</th>\n",
       "      <td>149.750000</td>\n",
       "      <td>12.900000</td>\n",
       "    </tr>\n",
       "    <tr>\n",
       "      <th>75%</th>\n",
       "      <td>218.825000</td>\n",
       "      <td>17.400000</td>\n",
       "    </tr>\n",
       "    <tr>\n",
       "      <th>max</th>\n",
       "      <td>296.400000</td>\n",
       "      <td>27.000000</td>\n",
       "    </tr>\n",
       "  </tbody>\n",
       "</table>\n",
       "</div>"
      ],
      "text/plain": [
       "               TV       Sales\n",
       "count  200.000000  200.000000\n",
       "mean   147.042500   14.022500\n",
       "std     85.854236    5.217457\n",
       "min      0.700000    1.600000\n",
       "25%     74.375000   10.375000\n",
       "50%    149.750000   12.900000\n",
       "75%    218.825000   17.400000\n",
       "max    296.400000   27.000000"
      ]
     },
     "execution_count": 6,
     "metadata": {},
     "output_type": "execute_result"
    }
   ],
   "source": [
    "df.describe()"
   ]
  },
  {
   "cell_type": "code",
   "execution_count": 7,
   "id": "47787307-bb4b-46c1-a799-2f570bfde07b",
   "metadata": {},
   "outputs": [
    {
     "name": "stdout",
     "output_type": "stream",
     "text": [
      "Requirement already satisfied: scikit-learn in c:\\users\\nagaraju\\appdata\\local\\programs\\python\\python313\\lib\\site-packages (1.6.1)\n",
      "Requirement already satisfied: numpy>=1.19.5 in c:\\users\\nagaraju\\appdata\\local\\programs\\python\\python313\\lib\\site-packages (from scikit-learn) (2.2.2)\n",
      "Requirement already satisfied: scipy>=1.6.0 in c:\\users\\nagaraju\\appdata\\local\\programs\\python\\python313\\lib\\site-packages (from scikit-learn) (1.15.2)\n",
      "Requirement already satisfied: joblib>=1.2.0 in c:\\users\\nagaraju\\appdata\\local\\programs\\python\\python313\\lib\\site-packages (from scikit-learn) (1.4.2)\n",
      "Requirement already satisfied: threadpoolctl>=3.1.0 in c:\\users\\nagaraju\\appdata\\local\\programs\\python\\python313\\lib\\site-packages (from scikit-learn) (3.5.0)\n",
      "Note: you may need to restart the kernel to use updated packages.\n"
     ]
    },
    {
     "name": "stderr",
     "output_type": "stream",
     "text": [
      "\n",
      "[notice] A new release of pip is available: 24.3.1 -> 25.0.1\n",
      "[notice] To update, run: python.exe -m pip install --upgrade pip\n"
     ]
    }
   ],
   "source": [
    "pip install scikit-learn"
   ]
  },
  {
   "cell_type": "code",
   "execution_count": 8,
   "id": "7b52dc0d-0475-4f34-ab86-4b5a1066ba02",
   "metadata": {},
   "outputs": [],
   "source": [
    "import sklearn"
   ]
  },
  {
   "cell_type": "code",
   "execution_count": 9,
   "id": "ad64bf2b-2b46-452d-bafc-353aadd2f0aa",
   "metadata": {},
   "outputs": [],
   "source": [
    "x=df[[\"TV\"]]\n",
    "y=df[\"Sales\"]"
   ]
  },
  {
   "cell_type": "code",
   "execution_count": 12,
   "id": "6da45ea2-918d-43d2-8166-4d90d0174f74",
   "metadata": {},
   "outputs": [
    {
     "data": {
      "image/png": "[encoded data removed]",
      "text/plain": [
       "<Figure size 640x480 with 1 Axes>"
      ]
     },
     "metadata": {},
     "output_type": "display_data"
    }
   ],
   "source": [
    "import matplotlib.pyplot as plt\n",
    "plt.scatter(x,y)\n",
    "plt.xlabel(\"TV\")\n",
    "plt.ylabel(\"Sales\")\n",
    "plt.show()"
   ]
  },
  {
   "cell_type": "code",
   "execution_count": 10,
   "id": "5b8bd483-5487-448b-8c76-d2dc98ed5fc1",
   "metadata": {},
   "outputs": [
    {
     "name": "stdout",
     "output_type": "stream",
     "text": [
      "[16.48227163]\n"
     ]
    }
   ],
   "source": [
    "import numpy as np\n",
    "import sklearn\n",
    "from sklearn.model_selection import train_test_split\n",
    "from sklearn.linear_model import LinearRegression\n",
    "x=df[[\"TV\"]]\n",
    "y=df[\"Sales\"]\n",
    "x_train,x_test,y_train,y_test=train_test_split(x,y,test_size=0.3)\n",
    "# x_train,y_train,x_test,y_test=train_test_split(x,y,test_size=0.3)\n",
    "# print(\"x_training data \",x_train)\n",
    "# print(\"y_taining data \",x_test)\n",
    "# print(\"x_testing data \", y_train)\n",
    "# print(\"y_testing data \",y_test)\n",
    "\n",
    "x_train=np.array(x_train).reshape(-1,1)\n",
    "y_train=np.array(y_train)\n",
    "x_test=np.array(x_test).reshape(-1,1)\n",
    "model_linear=LinearRegression()\n",
    "model_linear.fit(x_train,y_train)\n",
    "predictedY= model_linear.predict([[200]])\n",
    "print(predictedY)"
   ]
  },
  {
   "cell_type": "code",
   "execution_count": 13,
   "id": "addb2def-d93f-49e7-81d0-3c927ee2a393",
   "metadata": {},
   "outputs": [
    {
     "data": {
      "image/png": "[encoded data removed]",
      "text/plain": [
       "<Figure size 640x480 with 1 Axes>"
      ]
     },
     "metadata": {},
     "output_type": "display_data"
    }
   ],
   "source": [
    "plt.scatter(x_train,y_train)\n",
    "plt.xlabel(\"x_training_data\")\n",
    "plt.ylabel(\"y_training_data\")\n",
    "plt.show()"
   ]
  },
  {
   "cell_type": "code",
   "execution_count": 64,
   "id": "9081529f-7676-4d77-ba8b-b7d1465f07c1",
   "metadata": {},
   "outputs": [
    {
     "data": {
      "image/png": "[encoded data removed]",
      "text/plain": [
       "<Figure size 640x480 with 1 Axes>"
      ]
     },
     "metadata": {},
     "output_type": "display_data"
    }
   ],
   "source": [
    "plt.scatter(x_test,y_test)\n",
    "plt.show()"
   ]
  },
  {
   "cell_type": "code",
   "execution_count": 14,
   "id": "81d3d9c1-1c91-4375-8de7-d095bfb9f366",
   "metadata": {},
   "outputs": [
    {
     "name": "stdout",
     "output_type": "stream",
     "text": [
      "[16.77746386]\n"
     ]
    }
   ],
   "source": [
    "import numpy as np\n",
    "import sklearn\n",
    "from sklearn.model_selection import train_test_split\n",
    "from sklearn.linear_model import LinearRegression\n",
    "x=df[[\"TV\"]]\n",
    "y=df[\"Sales\"]\n",
    "x_train,x_test,y_train,y_test=train_test_split(x,y,test_size=0.3)\n",
    "# x_train,y_train,x_test,y_test=train_test_split(x,y,test_size=0.3)\n",
    "# print(\"x_training data \",x_train)\n",
    "# print(\"y_taining data \",x_test)\n",
    "# print(\"x_testing data \", y_train)\n",
    "# print(\"y_testing data \",y_test)\n",
    "\n",
    "x_train=np.array(x_train).reshape(-1,1)  # .reshape(-1,1) will make a 1D array into 2D\n",
    "y_train=np.array(y_train)                # y_train is accepted as 1D array\n",
    "x_test=np.array(x_test).reshape(-1,1)    #\n",
    "linear_model=LinearRegression()     #create an object with linearModel\n",
    "linear_model.fit(x_train,y_train)    # make fit the training data sets to the model by .fit method\n",
    "predictedY=linear_model.predict([[200]])  # pass the x value you will be getting predicted value\n",
    "print(predictedY)  "
   ]
  },
  {
   "cell_type": "code",
   "execution_count": 15,
   "id": "19ac585d-ec50-47ca-b931-50accbdc16af",
   "metadata": {},
   "outputs": [
    {
     "name": "stdout",
     "output_type": "stream",
     "text": [
      "[221.5]\n"
     ]
    }
   ],
   "source": [
    "x=np.array([1,2,3,4,5]).reshape(-1,1)\n",
    "y=np.array([50,55,65,70,80])\n",
    "linear_model=LinearRegression()\n",
    "linear_model.fit(x,y)\n",
    "result=linear_model.predict([[24]])\n",
    "print(result)"
   ]
  },
  {
   "cell_type": "code",
   "execution_count": 16,
   "id": "e887a3ef-6aa4-4406-9adb-e5653aaf29da",
   "metadata": {},
   "outputs": [
    {
     "name": "stdout",
     "output_type": "stream",
     "text": [
      "[1 2 3 4 5]\n",
      "[[1]\n",
      " [2]\n",
      " [3]\n",
      " [4]\n",
      " [5]]\n"
     ]
    }
   ],
   "source": [
    "print(np.array([1,2,3,4,5]))\n",
    "print(np.array([1,2,3,4,5]).reshape(-1,1))\n"
   ]
  },
  {
   "cell_type": "code",
   "execution_count": 83,
   "id": "a4181a55-6876-4d39-be2b-d408bcc47e51",
   "metadata": {},
   "outputs": [
    {
     "name": "stdout",
     "output_type": "stream",
     "text": [
      "theta1 -75.3\n",
      "theta0 289.9\n",
      "xmean 3.0\n",
      "ymean 64.0\n"
     ]
    }
   ],
   "source": [
    "x=np.array([1,2,3,4,5])\n",
    "y=np.array([50,55,65,70,80])\n",
    "length=len(x)\n",
    "\n",
    "# mean=sum no of observation / no of observation\n",
    "\n",
    "xsum=0\n",
    "three=0\n",
    "ysum=0\n",
    "for i in range(0,length):\n",
    "    xsum=xsum+x[i]\n",
    "    three+=x[i]*x[i]\n",
    "    ysum=ysum+y[i]\n",
    "xmean=xsum/length\n",
    "ymean=ysum/length\n",
    "\n",
    "one=0\n",
    "for i in range(0,length):\n",
    "    one+=x[i]*y[i]\n",
    "    \n",
    "two=xsum*ysum\n",
    "three=length*three\n",
    "fourth=xsum*xsum\n",
    "\n",
    "theta1=(one-two)/(three-fourth)\n",
    "print(\"theta1\",theta1)\n",
    "\n",
    "theta0=ymean-theta1*xmean\n",
    "print(\"theta0\", theta0)\n",
    "\n",
    "print(\"xmean\" ,xmean)\n",
    "print(\"ymean\", ymean)"
   ]
  },
  {
   "cell_type": "code",
   "execution_count": null,
   "id": "8ae68c0e-0ef9-4495-8486-06db90aa7af0",
   "metadata": {},
   "outputs": [],
   "source": []
  },
  {
   "cell_type": "code",
   "execution_count": null,
   "id": "92f97d11-ddc9-40ff-9f88-63a37885fe0c",
   "metadata": {},
   "outputs": [],
   "source": []
  }
 ],
 "metadata": {
  "kernelspec": {
   "display_name": "Python 3",
   "language": "python",
   "name": "python3"
  },
  "language_info": {
   "codemirror_mode": {
    "name": "ipython",
    "version": 3
   },
   "file_extension": ".py",
   "mimetype": "text/x-python",
   "name": "python",
   "nbconvert_exporter": "python",
   "pygments_lexer": "ipython3",
   "version": "3.13.2"
  }
 },
 "nbformat": 4,
 "nbformat_minor": 5
}
