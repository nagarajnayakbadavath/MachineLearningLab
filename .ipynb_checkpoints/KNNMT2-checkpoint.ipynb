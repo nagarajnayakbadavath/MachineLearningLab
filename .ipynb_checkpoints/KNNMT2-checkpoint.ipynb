{
 "cells": [
  {
   "cell_type": "markdown",
   "id": "249f74c4-16c9-4c54-879c-7af4b79998b1",
   "metadata": {},
   "source": [
    "Here KNN example problem "
   ]
  },
  {
   "cell_type": "code",
   "execution_count": 7,
   "id": "a2804825-1a1f-43cb-97cd-e704da0f84aa",
   "metadata": {},
   "outputs": [
    {
     "name": "stdout",
     "output_type": "stream",
     "text": [
      "{'maths': [4, 6, 7, 5, 8], 'cs': [3, 7, 8, 5, 8], 'result': ['f', 'p', 'p', 'f', 'p']}\n"
     ]
    }
   ],
   "source": [
    "#create a dataset \n",
    "data={\n",
    "    \"maths\":[4,6,7,5,8],\n",
    "    \"cs\":[3,7,8,5,8],\n",
    "    \"result\":['f','p','p','f','p']\n",
    "}\n",
    "print(data)"
   ]
  },
  {
   "cell_type": "code",
   "execution_count": 9,
   "id": "7642b96e-7e20-4f9b-805e-25fe292348fa",
   "metadata": {},
   "outputs": [
    {
     "name": "stdout",
     "output_type": "stream",
     "text": [
      "This is the total dataset\n"
     ]
    },
    {
     "data": {
      "text/html": [
       "<div>\n",
       "<style scoped>\n",
       "    .dataframe tbody tr th:only-of-type {\n",
       "        vertical-align: middle;\n",
       "    }\n",
       "\n",
       "    .dataframe tbody tr th {\n",
       "        vertical-align: top;\n",
       "    }\n",
       "\n",
       "    .dataframe thead th {\n",
       "        text-align: right;\n",
       "    }\n",
       "</style>\n",
       "<table border=\"1\" class=\"dataframe\">\n",
       "  <thead>\n",
       "    <tr style=\"text-align: right;\">\n",
       "      <th></th>\n",
       "      <th>maths</th>\n",
       "      <th>cs</th>\n",
       "      <th>result</th>\n",
       "    </tr>\n",
       "  </thead>\n",
       "  <tbody>\n",
       "    <tr>\n",
       "      <th>0</th>\n",
       "      <td>4</td>\n",
       "      <td>3</td>\n",
       "      <td>f</td>\n",
       "    </tr>\n",
       "    <tr>\n",
       "      <th>1</th>\n",
       "      <td>6</td>\n",
       "      <td>7</td>\n",
       "      <td>p</td>\n",
       "    </tr>\n",
       "    <tr>\n",
       "      <th>2</th>\n",
       "      <td>7</td>\n",
       "      <td>8</td>\n",
       "      <td>p</td>\n",
       "    </tr>\n",
       "    <tr>\n",
       "      <th>3</th>\n",
       "      <td>5</td>\n",
       "      <td>5</td>\n",
       "      <td>f</td>\n",
       "    </tr>\n",
       "    <tr>\n",
       "      <th>4</th>\n",
       "      <td>8</td>\n",
       "      <td>8</td>\n",
       "      <td>p</td>\n",
       "    </tr>\n",
       "  </tbody>\n",
       "</table>\n",
       "</div>"
      ],
      "text/plain": [
       "   maths  cs result\n",
       "0      4   3      f\n",
       "1      6   7      p\n",
       "2      7   8      p\n",
       "3      5   5      f\n",
       "4      8   8      p"
      ]
     },
     "execution_count": 9,
     "metadata": {},
     "output_type": "execute_result"
    }
   ],
   "source": [
    "import pandas as pd\n",
    "df=pd.DataFrame(data)\n",
    "print(\"This is the total dataset\")\n",
    "df"
   ]
  },
  {
   "cell_type": "code",
   "execution_count": 10,
   "id": "3cd915e8-beae-4582-aa39-ae9d4460db72",
   "metadata": {},
   "outputs": [
    {
     "data": {
      "text/plain": [
       "(5, 3)"
      ]
     },
     "execution_count": 10,
     "metadata": {},
     "output_type": "execute_result"
    }
   ],
   "source": [
    "df.shape"
   ]
  },
  {
   "cell_type": "code",
   "execution_count": 11,
   "id": "729ebda6-63d3-4846-8e8f-1bbc5f2b682c",
   "metadata": {},
   "outputs": [
    {
     "data": {
      "text/plain": [
       "maths      int64\n",
       "cs         int64\n",
       "result    object\n",
       "dtype: object"
      ]
     },
     "execution_count": 11,
     "metadata": {},
     "output_type": "execute_result"
    }
   ],
   "source": [
    "df.dtypes"
   ]
  },
  {
   "cell_type": "code",
   "execution_count": 12,
   "id": "320b6b49-5081-4793-b9df-f7aec1137930",
   "metadata": {},
   "outputs": [
    {
     "data": {
      "text/plain": [
       "Index(['maths', 'cs', 'result'], dtype='object')"
      ]
     },
     "execution_count": 12,
     "metadata": {},
     "output_type": "execute_result"
    }
   ],
   "source": [
    "df.columns"
   ]
  },
  {
   "cell_type": "code",
   "execution_count": 31,
   "id": "f0b977c5-14f5-49d5-b504-7c53e94ac21e",
   "metadata": {},
   "outputs": [],
   "source": [
    "#Now check for given Math Score=6 and CS score=8 at K=3 pass or fail"
   ]
  },
  {
   "cell_type": "code",
   "execution_count": 57,
   "id": "9df116a4-031c-4544-bec7-fdc109cf156e",
   "metadata": {},
   "outputs": [
    {
     "name": "stdout",
     "output_type": "stream",
     "text": [
      "{0: np.float64(5.385164807134504), 1: np.float64(1.0), 2: np.float64(1.0), 3: np.float64(3.1622776601683795), 4: np.float64(2.0)}\n"
     ]
    }
   ],
   "source": [
    "# first step find the distance between the observer value and acctual values \n",
    "#Euclidian distance=sqrt((observer_value1-acctual_value1)^2+(oberseved_value2-acctual_value2)^2)\n",
    "import numpy as np\n",
    "ov1=6\n",
    "ov2=8\n",
    "distances={}\n",
    "for index,row in df.iterrows():\n",
    "    dist=np.sqrt((row['maths']-ov1)**2+(row['cs']-ov2)**2)\n",
    "    distances[index]=dist\n",
    "print(distances)\n"
   ]
  },
  {
   "cell_type": "code",
   "execution_count": 60,
   "id": "669ffe54-3b47-43b1-a8e0-c50d60e363fb",
   "metadata": {},
   "outputs": [
    {
     "name": "stdout",
     "output_type": "stream",
     "text": [
      "{1: np.float64(1.0), 2: np.float64(1.0), 4: np.float64(2.0), 3: np.float64(3.1622776601683795), 0: np.float64(5.385164807134504)}\n"
     ]
    }
   ],
   "source": [
    "#sort the list \n",
    "sorted_dict=dict(sorted(distances.items(),key=lambda item:item[1]))\n",
    "print(sorted_dict)\n",
    "#Here run a loop upto 3 indexes and find the most possible answer result either pass or fail"
   ]
  },
  {
   "cell_type": "code",
   "execution_count": null,
   "id": "57d3bcb1-cc05-4d32-9283-93dc7347d724",
   "metadata": {},
   "outputs": [],
   "source": [
    "#Given k=3 choose first 3 indexes and look the most repeated labelled answer and classify the answer "
   ]
  }
 ],
 "metadata": {
  "kernelspec": {
   "display_name": "Python 3 (ipykernel)",
   "language": "python",
   "name": "python3"
  },
  "language_info": {
   "codemirror_mode": {
    "name": "ipython",
    "version": 3
   },
   "file_extension": ".py",
   "mimetype": "text/x-python",
   "name": "python",
   "nbconvert_exporter": "python",
   "pygments_lexer": "ipython3",
   "version": "3.13.2"
  }
 },
 "nbformat": 4,
 "nbformat_minor": 5
}
