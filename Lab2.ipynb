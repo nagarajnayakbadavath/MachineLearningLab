{
 "cells": [
  {
   "cell_type": "code",
   "execution_count": 22,
   "id": "6aaed7f2-c2bf-4ec2-b636-ba2b3182e6a8",
   "metadata": {},
   "outputs": [
    {
     "name": "stdout",
     "output_type": "stream",
     "text": [
      "    Manufacturer              Model  Sales in thousands 4-year resale value  \\\n",
      "0  Acura          Integra                        16.919               16.36   \n",
      "1  Acura          TL                             39.384              19.875   \n",
      "2  Acura          CL                             14.114              18.225   \n",
      "3  Acura          RL                              8.588              29.725   \n",
      "4  Audi           A4                             20.397              22.255   \n",
      "\n",
      "  Vehicle type Price in thousands Engine size Horsepower Wheelbase Width  \\\n",
      "0    Passenger               21.5         1.8        140     101.2  67.3   \n",
      "1    Passenger               28.4         3.2        225     108.1  70.3   \n",
      "2    Passenger                  .         3.2        225     106.9  70.6   \n",
      "3    Passenger                 42         3.5        210     114.6  71.4   \n",
      "4    Passenger              23.99         1.8        150     102.6  68.2   \n",
      "\n",
      "  Length Curb weight Fuel capacity Fuel efficiency Latest Launch  \n",
      "0  172.4       2.639          13.2              28      2-Feb-14  \n",
      "1  192.9       3.517          17.2              25      6-Mar-15  \n",
      "2    192        3.47          17.2              26      1-Apr-14  \n",
      "3  196.6        3.85            18              22      3-Oct-15  \n",
      "4    178       2.998          16.4              27     10-Aug-15  \n"
     ]
    }
   ],
   "source": [
    "#1 reading top 5 values\n",
    "import pandas as pd \n",
    "df=pd.read_csv(\"C:/Users/NAGARAJU/Downloads/Car_sales.csv\")\n",
    "print(df.head())"
   ]
  },
  {
   "cell_type": "code",
   "execution_count": 24,
   "id": "68ab6a10",
   "metadata": {},
   "outputs": [
    {
     "data": {
      "text/plain": [
       "Manufacturer            object\n",
       "Model                   object\n",
       "Sales in thousands     float64\n",
       "4-year resale value     object\n",
       "Vehicle type            object\n",
       "Price in thousands      object\n",
       "Engine size             object\n",
       "Horsepower              object\n",
       "Wheelbase               object\n",
       "Width                   object\n",
       "Length                  object\n",
       "Curb weight             object\n",
       "Fuel capacity           object\n",
       "Fuel efficiency         object\n",
       "Latest Launch           object\n",
       "dtype: object"
      ]
     },
     "execution_count": 24,
     "metadata": {},
     "output_type": "execute_result"
    }
   ],
   "source": [
    "#2 \n",
    "df.dtypes"
   ]
  },
  {
   "cell_type": "code",
   "execution_count": 25,
   "id": "3adbf601-ee86-46b5-8174-853282c6ddcc",
   "metadata": {},
   "outputs": [
    {
     "data": {
      "text/plain": [
       "(157, 15)"
      ]
     },
     "execution_count": 25,
     "metadata": {},
     "output_type": "execute_result"
    }
   ],
   "source": [
    "#3 .Print number of rows and columns\n",
    "df.shape"
   ]
  },
  {
   "cell_type": "code",
   "execution_count": 26,
   "id": "43e2de19-d1b3-4d86-abee-2f73c7a5871e",
   "metadata": {},
   "outputs": [
    {
     "name": "stdout",
     "output_type": "stream",
     "text": [
      "157\n"
     ]
    }
   ],
   "source": [
    "#4 droping duplicate rows if any\n",
    "df_cleaned=df.drop_duplicates()\n",
    "print(df_cleaned.shape[0])"
   ]
  },
  {
   "cell_type": "code",
   "execution_count": 27,
   "id": "35006290-be44-4e62-b987-7eec780b657a",
   "metadata": {},
   "outputs": [
    {
     "data": {
      "text/plain": [
       "(157, 15)"
      ]
     },
     "execution_count": 27,
     "metadata": {},
     "output_type": "execute_result"
    }
   ],
   "source": [
    "#5. Print number of rows and columns after dropping duplicates\n",
    "df.shape"
   ]
  },
  {
   "cell_type": "code",
   "execution_count": 28,
   "id": "0be43197-8424-4f04-ae6c-79385eade508",
   "metadata": {},
   "outputs": [
    {
     "data": {
      "text/html": [
       "<div>\n",
       "<style scoped>\n",
       "    .dataframe tbody tr th:only-of-type {\n",
       "        vertical-align: middle;\n",
       "    }\n",
       "\n",
       "    .dataframe tbody tr th {\n",
       "        vertical-align: top;\n",
       "    }\n",
       "\n",
       "    .dataframe thead th {\n",
       "        text-align: right;\n",
       "    }\n",
       "</style>\n",
       "<table border=\"1\" class=\"dataframe\">\n",
       "  <thead>\n",
       "    <tr style=\"text-align: right;\">\n",
       "      <th></th>\n",
       "      <th>Sales in thousands</th>\n",
       "    </tr>\n",
       "  </thead>\n",
       "  <tbody>\n",
       "    <tr>\n",
       "      <th>count</th>\n",
       "      <td>157.000000</td>\n",
       "    </tr>\n",
       "    <tr>\n",
       "      <th>mean</th>\n",
       "      <td>52.998076</td>\n",
       "    </tr>\n",
       "    <tr>\n",
       "      <th>std</th>\n",
       "      <td>68.029422</td>\n",
       "    </tr>\n",
       "    <tr>\n",
       "      <th>min</th>\n",
       "      <td>0.110000</td>\n",
       "    </tr>\n",
       "    <tr>\n",
       "      <th>25%</th>\n",
       "      <td>14.114000</td>\n",
       "    </tr>\n",
       "    <tr>\n",
       "      <th>50%</th>\n",
       "      <td>29.450000</td>\n",
       "    </tr>\n",
       "    <tr>\n",
       "      <th>75%</th>\n",
       "      <td>67.956000</td>\n",
       "    </tr>\n",
       "    <tr>\n",
       "      <th>max</th>\n",
       "      <td>540.561000</td>\n",
       "    </tr>\n",
       "  </tbody>\n",
       "</table>\n",
       "</div>"
      ],
      "text/plain": [
       "       Sales in thousands\n",
       "count          157.000000\n",
       "mean            52.998076\n",
       "std             68.029422\n",
       "min              0.110000\n",
       "25%             14.114000\n",
       "50%             29.450000\n",
       "75%             67.956000\n",
       "max            540.561000"
      ]
     },
     "execution_count": 28,
     "metadata": {},
     "output_type": "execute_result"
    }
   ],
   "source": [
    "# 6. Print summary statistics for numerical variables\n",
    "df.describe()"
   ]
  },
  {
   "cell_type": "code",
   "execution_count": 29,
   "id": "f469e771-e06e-4226-b6fe-bfb8c30b270f",
   "metadata": {},
   "outputs": [
    {
     "data": {
      "text/plain": [
       "Manufacturer           0\n",
       "Model                  0\n",
       "Sales in thousands     0\n",
       "4-year resale value    0\n",
       "Vehicle type           0\n",
       "Price in thousands     0\n",
       "Engine size            0\n",
       "Horsepower             0\n",
       "Wheelbase              0\n",
       "Width                  0\n",
       "Length                 0\n",
       "Curb weight            0\n",
       "Fuel capacity          0\n",
       "Fuel efficiency        0\n",
       "Latest Launch          0\n",
       "dtype: int64"
      ]
     },
     "execution_count": 29,
     "metadata": {},
     "output_type": "execute_result"
    }
   ],
   "source": [
    "# 7. Print number of missing values in each column\n",
    "df.isnull().sum()"
   ]
  },
  {
   "cell_type": "code",
   "execution_count": 33,
   "id": "f5ad326f-976a-4968-95a2-dc4e0434cd8f",
   "metadata": {},
   "outputs": [
    {
     "data": {
      "text/plain": [
       "'Manufacturer'"
      ]
     },
     "execution_count": 33,
     "metadata": {},
     "output_type": "execute_result"
    }
   ],
   "source": [
    "# 8. Drop the column with most missing values\n",
    "df.isnull().sum().idxmax()"
   ]
  },
  {
   "cell_type": "code",
   "execution_count": null,
   "id": "e77818a3-4834-462c-85ad-cba04bb59b3a",
   "metadata": {},
   "outputs": [],
   "source": [
    "# 9. Drop the rows with categorical missing values\n"
   ]
  },
  {
   "cell_type": "code",
   "execution_count": 35,
   "id": "82feef1b-6623-4039-99c5-05e0c789b57b",
   "metadata": {},
   "outputs": [
    {
     "name": "stdout",
     "output_type": "stream",
     "text": [
      "Empty DataFrame\n",
      "Columns: [Manufacturer, Model, Sales in thousands, 4-year resale value, Vehicle type, Price in thousands, Engine size, Horsepower, Wheelbase, Width, Length, Curb weight, Fuel capacity, Fuel efficiency, Latest Launch]\n",
      "Index: []\n"
     ]
    }
   ],
   "source": [
    "# 10. Import the rows with numerical missing values\n",
    "import numpy as np\n",
    "num_cols=df.select_dtypes(include=[np.number]).columns\n",
    "rows_with_missing_num=df[df[num_cols].isnull().any(axis=1)]\n",
    "print(rows_with_missing_num)"
   ]
  },
  {
   "cell_type": "code",
   "execution_count": 41,
   "id": "07d20ee5-7d3f-40b1-a810-fd396f6d4ef2",
   "metadata": {},
   "outputs": [],
   "source": [
    "#11. Sort the data w.r.t price_find the details of the most and the least expensive cars\n"
   ]
  },
  {
   "cell_type": "code",
   "execution_count": 44,
   "id": "aad0ddbf-e9b4-4955-839c-c3e6b607fa00",
   "metadata": {},
   "outputs": [
    {
     "name": "stdout",
     "output_type": "stream",
     "text": [
      "9.699\n"
     ]
    }
   ],
   "source": [
    "#12 Write a function to find min and max values of any column\n",
    "minvalue=df['Price in thousands'].min()\n",
    "maxvalue=df['Price in thousands'].max()\n",
    "print(maxvalue)"
   ]
  },
  {
   "cell_type": "code",
   "execution_count": 17,
   "id": "07f26605-7ddc-405b-96aa-3c13dcf078b8",
   "metadata": {},
   "outputs": [],
   "source": [
    "import matplotlib.pyplot as plt\n",
    "import seaborn as sns"
   ]
  },
  {
   "cell_type": "code",
   "execution_count": 18,
   "id": "7925547d-50d2-4b24-9458-926541503fb9",
   "metadata": {},
   "outputs": [
    {
     "data": {
      "text/plain": [
       "(array([0.03074896, 0.04173073, 0.0285526 , 0.0384362 , 0.03294531]),\n",
       " array([ 0. ,  5.8, 11.6, 17.4, 23.2, 29. ]),\n",
       " <BarContainer object of 5 artists>)"
      ]
     },
     "execution_count": 18,
     "metadata": {},
     "output_type": "execute_result"
    },
    {
     "data": {
      "image/png": "[encoded data removed]",
      "text/plain": [
       "<Figure size 800x500 with 1 Axes>"
      ]
     },
     "metadata": {},
     "output_type": "display_data"
    }
   ],
   "source": [
    "plt.figure(figsize=(8, 5))\n",
    "plt.hist(df['Manufacturer'],bins=5,density=True,alpha=0.6,color=\"orange\",label=\"Histogram\")\n"
   ]
  },
  {
   "cell_type": "code",
   "execution_count": 19,
   "id": "665083fb-7845-47da-ae45-d49241d9269c",
   "metadata": {},
   "outputs": [
    {
     "data": {
      "image/png": "[encoded data removed]",
      "text/plain": [
       "<Figure size 800x500 with 1 Axes>"
      ]
     },
     "metadata": {},
     "output_type": "display_data"
    }
   ],
   "source": [
    "import seaborn as sns\n",
    "plt.figure(figsize=(8, 5))\n",
    "sns.kdeplot(df['Sales in thousands'],fill=True,color=\"blue\",label=\"KDE\")\n",
    "plt.legend()\n",
    "plt.show()\n",
    "\n"
   ]
  },
  {
   "cell_type": "code",
   "execution_count": 20,
   "id": "4bf795f2-5e21-4745-a4bc-8edb1365b914",
   "metadata": {},
   "outputs": [
    {
     "data": {
      "image/png": "[encoded data removed]",
      "text/plain": [
       "<Figure size 800x500 with 1 Axes>"
      ]
     },
     "metadata": {},
     "output_type": "display_data"
    }
   ],
   "source": [
    "plt.figure(figsize=(8, 5))\n",
    "plt.hist(df['Manufacturer'],bins=5,density=True,alpha=0.6,color=\"orange\",label=\"Histogram\")\n",
    "sns.kdeplot(df['Sales in thousands'],fill=True,color=\"blue\",label=\"KDE\")\n",
    "plt.legend()\n",
    "plt.show()"
   ]
  },
  {
   "cell_type": "code",
   "execution_count": null,
   "id": "a40bbef0-215c-48a6-8a3b-ec17131034a9",
   "metadata": {},
   "outputs": [],
   "source": []
  },
  {
   "cell_type": "code",
   "execution_count": null,
   "id": "6ad0f293-9c06-48eb-aee9-fce2c1e9f854",
   "metadata": {},
   "outputs": [],
   "source": []
  },
  {
   "cell_type": "code",
   "execution_count": null,
   "id": "8e81cbe7-097e-4bdb-aa4f-83b40058220f",
   "metadata": {},
   "outputs": [],
   "source": []
  }
 ],
 "metadata": {
  "kernelspec": {
   "display_name": "Python 3",
   "language": "python",
   "name": "python3"
  },
  "language_info": {
   "codemirror_mode": {
    "name": "ipython",
    "version": 3
   },
   "file_extension": ".py",
   "mimetype": "text/x-python",
   "name": "python",
   "nbconvert_exporter": "python",
   "pygments_lexer": "ipython3",
   "version": "3.13.2"
  }
 },
 "nbformat": 4,
 "nbformat_minor": 5
}
